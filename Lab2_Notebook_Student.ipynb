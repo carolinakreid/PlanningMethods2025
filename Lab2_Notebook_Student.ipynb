{
 "cells": [
  {
   "cell_type": "markdown",
   "metadata": {},
   "source": [
    "## Lab - September 3: Basic Python Programming Skills\n"
   ]
  },
  {
   "cell_type": "markdown",
   "metadata": {},
   "source": [
    "# 1. Introduction\n",
    "\n",
    "The goals for today's lab are to work through some basic features of Python programming.  There is SO much to learn, and so many ways of doing the same thing but with different codes, that we're going to focus on some basic concepts, but over time, you'll likely develop your own coding preferences or approaches. \n",
    "\n",
    "We're working in Jupyter notebooks - some of you may move to command line approaches to coding, but for now, we're going to keep it easy!"
   ]
  },
  {
   "cell_type": "markdown",
   "metadata": {},
   "source": [
    "Lots more helpful info about Jupyter notebooks here: https://jupyter-notebook.readthedocs.io/en/stable/examples/Notebook/examples_index.html "
   ]
  },
  {
   "cell_type": "markdown",
   "metadata": {},
   "source": [
    "## 1.1 Developing Good Habits\n",
    "\n",
    "In lecture, we went over the difference between a code and a markdown cell.  But, in your code cells, you will also want to create notes that explain what a set of coding lines do.  You do this with a # sign in front of the text."
   ]
  },
  {
   "cell_type": "code",
   "execution_count": 30,
   "metadata": {},
   "outputs": [],
   "source": [
    "# These lines are comments. The Python interpreter ignores everything in a line after the # character.\n",
    "# Comments are just notes for humans to read to help understand the code.\n",
    "\n",
    "# Best practice: add a comment for every couple lines of code to explain what's going on and why.\n",
    "# You'd be amazed at how quickly you forget your code's logic!"
   ]
  },
  {
   "cell_type": "markdown",
   "metadata": {},
   "source": [
    "## 1.2 Some Basics"
   ]
  },
  {
   "cell_type": "markdown",
   "metadata": {},
   "source": [
    "Let's do math!!!"
   ]
  },
  {
   "cell_type": "code",
   "execution_count": null,
   "metadata": {},
   "outputs": [],
   "source": [
    "# Addition\n",
    "5 + 2"
   ]
  },
  {
   "cell_type": "code",
   "execution_count": null,
   "metadata": {},
   "outputs": [],
   "source": [
    "# Subtraction\n",
    "5 - 2"
   ]
  },
  {
   "cell_type": "code",
   "execution_count": null,
   "metadata": {},
   "outputs": [],
   "source": [
    "# EXERCISE: See if you can figure out multiplication and division on your own\n"
   ]
  },
  {
   "cell_type": "code",
   "execution_count": null,
   "metadata": {},
   "outputs": [],
   "source": [
    "# EXERCISE: How about exponentiation and square root?\n",
    "# Hint: Look this up on Google if you can't figure it out.\n"
   ]
  },
  {
   "cell_type": "markdown",
   "metadata": {},
   "source": [
    "Okay - that was fun!  Let's learn some concepts about different types of variables"
   ]
  },
  {
   "cell_type": "code",
   "execution_count": null,
   "metadata": {},
   "outputs": [],
   "source": [
    "# Variables, such as x here, contain values.  Those values can be numeric, string, and we can manipulate them\n",
    "# The equal sign (=) in name = input(...) does not mean equality. \n",
    "# It assigns the value on the right to the variable on the left by creating a reference or pointer to the data in memory.\n",
    "\n",
    "x = 5\n",
    "print(x)"
   ]
  },
  {
   "cell_type": "code",
   "execution_count": null,
   "metadata": {},
   "outputs": [],
   "source": [
    "# What is we decide to assign a new value to x?\n",
    "x = 3\n",
    "print(x)\n",
    "\n",
    "# Notice that 5 has been overwritten by 3. "
   ]
  },
  {
   "cell_type": "code",
   "execution_count": null,
   "metadata": {},
   "outputs": [],
   "source": [
    "# EXERCISE: Multiply x by 100 and then print the new value\n"
   ]
  },
  {
   "cell_type": "code",
   "execution_count": null,
   "metadata": {},
   "outputs": [],
   "source": [
    "# Now what if we change the value of x to a string? Will the calculation work?\n",
    "\n",
    "x = \"CYPLAN 201a\"\n",
    "x*100"
   ]
  },
  {
   "cell_type": "code",
   "execution_count": null,
   "metadata": {},
   "outputs": [],
   "source": [
    "# EXERCISE: Let's go one step harder - can you figure out how you might create a new y variable that is the square root of x?\n"
   ]
  },
  {
   "cell_type": "markdown",
   "metadata": {},
   "source": [
    "Naming conventions and best-practices for variables: \n",
    "\n",
    "* You can't have spaces or dashes in variable names\n",
    "* Variable names must begin with a letter (but after that, numbers are fine)\n",
    "* Variable names (like the rest of Python) are case sensitive, so make it easy on yourself and use lowercase\n",
    "* it is also good practice to keep your variable names short - I recommend under 8 characters\n",
    "* names_with_underscores are one good approach"
   ]
  },
  {
   "cell_type": "code",
   "execution_count": null,
   "metadata": {},
   "outputs": [],
   "source": [
    "# Here are some examples of how to (and not to) name variables. \n",
    "\n",
    "my_var = 1\n",
    "my_var2 = 2\n",
    "this-aint-a-var = 4 # Notice that this will generate an error because you cannot use dashes in place of underscores"
   ]
  },
  {
   "cell_type": "markdown",
   "metadata": {},
   "source": [
    "## 1.3 Data Types\n",
    "\n",
    "When working with any programming language, you need a way to store and work with information. In Python, different kinds of information are called data types. Think of them as different “boxes” designed to hold different kinds of things: numbers, words, lists of items, and more.\n",
    "Here are some of the most common data types:\n",
    "\n",
    "1. **Integers (int)**: Whole numbers without a decimal point.\n",
    "2. **Floating-Point Numbers (float)**: Numbers that have a decimal point.\n",
    "3. **Strings (str)**: Text inside quotation marks (single or double).\n",
    "4. **Booleans (bool)**: A value that is either True or False.\n",
    "5. **Lists (list)**: An ordered collection of items (like a shopping list).\n",
    "6. **Dictionaries (dict)**: A way to store data as key–value pairs (like a mini phone book).\n",
    "\n",
    "<img src=\"Python-Data-Types.webp\" width=\"500\">\n",
    "\n",
    "[Image Source](https://www.geeksforgeeks.org/python/python-data-types/)"
   ]
  },
  {
   "cell_type": "code",
   "execution_count": null,
   "metadata": {},
   "outputs": [],
   "source": [
    "# You can ask Python to tell you the type of any variable \n",
    "type(125)"
   ]
  },
  {
   "cell_type": "code",
   "execution_count": null,
   "metadata": {},
   "outputs": [],
   "source": [
    "# EXERCISE: Create a string variable with your name, and then look to see what type it is\n"
   ]
  },
  {
   "cell_type": "code",
   "execution_count": null,
   "metadata": {},
   "outputs": [],
   "source": [
    "# A list is a collection of elements denoted by square brackets\n",
    "my_list = [1, 2, 3, 4]\n",
    "print(my_list)\n",
    "type(my_list)"
   ]
  },
  {
   "cell_type": "code",
   "execution_count": null,
   "metadata": {},
   "outputs": [],
   "source": [
    "# A dictionary is a collection of key:value pairs, denoted by curly braces\n",
    "person = {'first_name': ['Carolina', 'Laura', 'Leila'], \n",
    "          'last_name': ['Reid', 'Latendresse', 'Tjiang']}\n",
    "# i.e.'first_name' is the key. 'Carolina' is the value.\n",
    "\n",
    "print(person)\n",
    "print(person['first_name']) # This will print all the values under the key 'first_name'.\n",
    "type(person)"
   ]
  },
  {
   "cell_type": "markdown",
   "metadata": {},
   "source": [
    "## 1.4 Indexing and Slicing with Lists (and Strings)\n",
    "\n",
    "For all sequential types (i.e. lists, strings, tuples) in Python, there are many useful operations we can use to manipulate objects. These operations are a key feature of how we will work with tabular data (i.e. data in tables) later on in this lab and in the course!"
   ]
  },
  {
   "cell_type": "code",
   "execution_count": null,
   "metadata": {},
   "outputs": [],
   "source": [
    "# We can pull out specific items in a list by referring to their index\n",
    "\n",
    "animals = [\"giraffe\", \"elephant\", \"lizard\", \"zebra\"]\n",
    "print(animals[0]) # Index 0 refers to the FIRST item in the list\n",
    "print(animals[1]) # Index 1 refers to the SECOND item in the list\n",
    "\n",
    "# What do you notice about the indexes?"
   ]
  },
  {
   "cell_type": "code",
   "execution_count": null,
   "metadata": {},
   "outputs": [],
   "source": [
    "# We can also use negative indexes\n",
    "\n",
    "print(animals[-1]) # Index -1 refers to the LAST item in the list\n",
    "print(animals[-3]) # Index -3 refers to the THIRD TO LAST item in the list \n",
    "\n",
    "# What do you notice about the indexes?"
   ]
  },
  {
   "cell_type": "code",
   "execution_count": null,
   "metadata": {},
   "outputs": [],
   "source": [
    "# We can also slice a list (i.e. take a subset).\n",
    "# The most basic way to do this is to use the indexes.\n",
    "\n",
    "letters = [\"a\", \"b\", \"c\", \"d\", \"e\", \"f\", \"g\", \"h\", \"i\", \"j\"]\n",
    "\n",
    "# Example 1\n",
    "print(\"Example 1: \", letters[2:7]) # This will return the items at indexes 2 through 6 (inclusive).\n",
    "\n",
    "# Example 2\n",
    "print(\"Example 2.1: \", letters[0:3]) # This will return first 3 items in the list (indexes 0, 1, and 2).\n",
    "print(\"Example 2.2: \", letters[:3]) # This is the same as above.\n",
    "\n",
    "# Example 3\n",
    "print(\"Example 3.1: \", letters[-3:]) # This will return the last 3 items in the list.\n",
    "print(\"Example 3.2: \", letters[:-2]) # This will return everything but the last two items in the list."
   ]
  },
  {
   "cell_type": "markdown",
   "metadata": {},
   "source": [
    "Here's a quick reminder of how indexes work when slicing a list (or any sequence type). \n",
    "\n",
    "Example code:\n",
    "```python\n",
    "nums = [10, 20, 30, 40, 50, 60, 70, 80, 90]\n",
    "some_nums = nums[2:7]\n",
    "```\n",
    "\n",
    "Here is a visual representation of the slicing: <img src=\"first-slice.png\" width=\"500\">\n",
    "\n",
    "[Image Source](https://railsware.com/blog/indexing-and-slicing-for-lists-tuples-strings-sequential-types/) _(Note: This link has an extensive list of almost all sequential type operations in Python.)_\n"
   ]
  },
  {
   "cell_type": "code",
   "execution_count": null,
   "metadata": {},
   "outputs": [],
   "source": [
    "# Remember, these operations work on any sequential type in Python. For example:\n",
    "\n",
    "sentence = \"Python makes data analysis so much easier!\"\n",
    "sentence[4:20]"
   ]
  },
  {
   "cell_type": "code",
   "execution_count": null,
   "metadata": {},
   "outputs": [],
   "source": [
    "# Now you try!\n",
    "# EXERCISE: Create a list with 5 or more items and complete the following exercises: \n",
    "\n",
    "# 1. Print the third item in the list\n",
    "\n",
    "# 2. Print the second to last item in the list\n",
    "\n",
    "# 3. Print the second, third, and fourth item in the list."
   ]
  },
  {
   "cell_type": "markdown",
   "metadata": {},
   "source": [
    "## 1.5 Libraries and/or Packages\n",
    "\n",
    "One of the challenging things about using open source technologies is that it is rarely presented as a \"complete\" software package.  If you're working in Excel, for example, you don't need to go outside of the program to insert an equation. It's a function in Excel. With open source software, different functions are created by different programmers, and we often have to \"call\" in that external program to do what we want. \n",
    "\n",
    "Some important libraries/packages in Python are:\n",
    "\n",
    ">**numpy**: used for math and logic operations.\n",
    "\n",
    ">**pandas**: used for the storing and basic handling of data in tabular format.\n",
    "\n",
    ">**matplotlib**: used for data visualization, creating plots, graphs, etc.\n",
    "\n",
    ">**math**: from datascience, a collection of math functions\n",
    "\n",
    "We install these  with the following commands. The abbreviation will be what we use to \"call\" functions that belong to that library or package.  As we start to get more sophisticated, we'll call ever more libraries or packages into our Python notebooks. \n",
    "\n",
    "#### NOTE: If you are working in the desktop version of Python, you may have to install some of these libraries/packages first. \n",
    "For more information about the distinction between packages and libraries, see: https://realpython.com/videos/scripts-modules-packages-and-libraries/"
   ]
  },
  {
   "cell_type": "code",
   "execution_count": 2,
   "metadata": {},
   "outputs": [],
   "source": [
    "import numpy as np\n",
    "import pandas as pd\n",
    "import math\n",
    "import matplotlib as plt\n",
    "%matplotlib inline\n",
    "\n",
    "pd.options.display.float_format = '{:.2f}'.format"
   ]
  },
  {
   "cell_type": "markdown",
   "metadata": {},
   "source": [
    "### 1.5.1 PANDAS\n",
    "\n",
    "<img src=\"panda.jpeg\" width=\"300\">\n",
    "\n",
    "No, not those pandas.  In Python, the word \"panda\" is derived from the term \"panel data\", an econometrics term for data sets that include observations over multiple time periods for the same individuals. With pandas, we can clean, transform and analyze our data.  While computer programmers often work with other forms of data, when we are doing planning data analysis, we are almost always working in pandas.\n",
    "\n",
    "The building block of pandas are \"series\" - a one-dimensional labeled indexed array.  A dataframe is a multi-dimensional table made up of a collection of series.\n",
    "\n",
    "<img src=\"Series.png\" width=\"300\">"
   ]
  },
  {
   "cell_type": "markdown",
   "metadata": {},
   "source": [
    "#### Note how Python has indexed my values - you can think of a dataframe as an Excel worksheet.  Just like Excel, it is assigning row numbers to each observation, but in this case, the row numbers start with 0 rather than 1.  "
   ]
  },
  {
   "cell_type": "markdown",
   "metadata": {},
   "source": [
    "# 2. Let's explore one easy ACS table to get us started!"
   ]
  },
  {
   "cell_type": "markdown",
   "metadata": {},
   "source": [
    "## 2.1 Read in data from the American Community Survey\n",
    "For this exercise, I've downloaded a table from the 2023 1-Year ACS for all of the counties in California. Next week, we'll pull these data directly from the Census website using an API (Application Programming Interface).  But for now, we'll just read in a csv file.  \n",
    "\n",
    "I downloaded table B03002: https://api.census.gov/data/2022/acs/acs5/groups/B03002.html.  I cleaned up the data, renaming the variables I want so it's easier to work with.\n",
    "\n",
    "I want to answer two questions today:\n",
    "- Which county in California has the highest share of Hispanic/Latinx residents?\n",
    "- What is the racial and ethnic distribution of Alameda county?"
   ]
  },
  {
   "cell_type": "code",
   "execution_count": 3,
   "metadata": {},
   "outputs": [],
   "source": [
    "# Read in Excel file through pandas\n",
    "df=pd.read_csv('ca_county_race_ethnicity_2023.csv') \n",
    "\n",
    "# Note: As long as the file you're reading into Python is in the same folder as your notebook, you don't have to specify the path (a.k.a. the location)"
   ]
  },
  {
   "cell_type": "code",
   "execution_count": null,
   "metadata": {},
   "outputs": [],
   "source": [
    "# Check out what's inside the dataframe\n",
    "df.info()"
   ]
  },
  {
   "cell_type": "code",
   "execution_count": null,
   "metadata": {},
   "outputs": [],
   "source": [
    "# How many rows and columns (variables) do we have?\n",
    "df.shape"
   ]
  },
  {
   "cell_type": "code",
   "execution_count": 6,
   "metadata": {},
   "outputs": [
    {
     "data": {
      "text/html": [
       "<div>\n",
       "<style scoped>\n",
       "    .dataframe tbody tr th:only-of-type {\n",
       "        vertical-align: middle;\n",
       "    }\n",
       "\n",
       "    .dataframe tbody tr th {\n",
       "        vertical-align: top;\n",
       "    }\n",
       "\n",
       "    .dataframe thead th {\n",
       "        text-align: right;\n",
       "    }\n",
       "</style>\n",
       "<table border=\"1\" class=\"dataframe\">\n",
       "  <thead>\n",
       "    <tr style=\"text-align: right;\">\n",
       "      <th></th>\n",
       "      <th>NAME</th>\n",
       "      <th>GEO_ID</th>\n",
       "      <th>total</th>\n",
       "      <th>total_moe</th>\n",
       "      <th>nh_white</th>\n",
       "      <th>nh_white_moe</th>\n",
       "      <th>nh_black</th>\n",
       "      <th>nh_black_moe</th>\n",
       "      <th>nh_native</th>\n",
       "      <th>nh_native_moe</th>\n",
       "      <th>...</th>\n",
       "      <th>nh_pi</th>\n",
       "      <th>nh_pi_moe</th>\n",
       "      <th>nh_1other</th>\n",
       "      <th>nh_1other_moe</th>\n",
       "      <th>nh_multi</th>\n",
       "      <th>nh_multi_moe</th>\n",
       "      <th>hispanic</th>\n",
       "      <th>hispanic_moe</th>\n",
       "      <th>state</th>\n",
       "      <th>county</th>\n",
       "    </tr>\n",
       "  </thead>\n",
       "  <tbody>\n",
       "    <tr>\n",
       "      <th>0</th>\n",
       "      <td>Alameda County, California</td>\n",
       "      <td>0500000US06001</td>\n",
       "      <td>1651949</td>\n",
       "      <td>-555555555</td>\n",
       "      <td>466445</td>\n",
       "      <td>1170</td>\n",
       "      <td>159042</td>\n",
       "      <td>1736</td>\n",
       "      <td>4002</td>\n",
       "      <td>418</td>\n",
       "      <td>...</td>\n",
       "      <td>11651</td>\n",
       "      <td>588</td>\n",
       "      <td>10314</td>\n",
       "      <td>1134</td>\n",
       "      <td>86873</td>\n",
       "      <td>3145</td>\n",
       "      <td>385245</td>\n",
       "      <td>-555555555</td>\n",
       "      <td>6</td>\n",
       "      <td>1</td>\n",
       "    </tr>\n",
       "    <tr>\n",
       "      <th>1</th>\n",
       "      <td>Alpine County, California</td>\n",
       "      <td>0500000US06003</td>\n",
       "      <td>1695</td>\n",
       "      <td>234</td>\n",
       "      <td>993</td>\n",
       "      <td>215</td>\n",
       "      <td>0</td>\n",
       "      <td>14</td>\n",
       "      <td>417</td>\n",
       "      <td>27</td>\n",
       "      <td>...</td>\n",
       "      <td>0</td>\n",
       "      <td>14</td>\n",
       "      <td>6</td>\n",
       "      <td>11</td>\n",
       "      <td>22</td>\n",
       "      <td>23</td>\n",
       "      <td>249</td>\n",
       "      <td>115</td>\n",
       "      <td>6</td>\n",
       "      <td>3</td>\n",
       "    </tr>\n",
       "    <tr>\n",
       "      <th>2</th>\n",
       "      <td>Amador County, California</td>\n",
       "      <td>0500000US06005</td>\n",
       "      <td>41029</td>\n",
       "      <td>-555555555</td>\n",
       "      <td>30234</td>\n",
       "      <td>341</td>\n",
       "      <td>781</td>\n",
       "      <td>143</td>\n",
       "      <td>398</td>\n",
       "      <td>112</td>\n",
       "      <td>...</td>\n",
       "      <td>26</td>\n",
       "      <td>22</td>\n",
       "      <td>489</td>\n",
       "      <td>298</td>\n",
       "      <td>2153</td>\n",
       "      <td>315</td>\n",
       "      <td>6361</td>\n",
       "      <td>-555555555</td>\n",
       "      <td>6</td>\n",
       "      <td>5</td>\n",
       "    </tr>\n",
       "    <tr>\n",
       "      <th>3</th>\n",
       "      <td>Butte County, California</td>\n",
       "      <td>0500000US06007</td>\n",
       "      <td>209470</td>\n",
       "      <td>-555555555</td>\n",
       "      <td>139527</td>\n",
       "      <td>767</td>\n",
       "      <td>3550</td>\n",
       "      <td>393</td>\n",
       "      <td>1611</td>\n",
       "      <td>294</td>\n",
       "      <td>...</td>\n",
       "      <td>554</td>\n",
       "      <td>130</td>\n",
       "      <td>1072</td>\n",
       "      <td>543</td>\n",
       "      <td>11317</td>\n",
       "      <td>895</td>\n",
       "      <td>40829</td>\n",
       "      <td>-555555555</td>\n",
       "      <td>6</td>\n",
       "      <td>7</td>\n",
       "    </tr>\n",
       "    <tr>\n",
       "      <th>4</th>\n",
       "      <td>Calaveras County, California</td>\n",
       "      <td>0500000US06009</td>\n",
       "      <td>45995</td>\n",
       "      <td>-555555555</td>\n",
       "      <td>35599</td>\n",
       "      <td>318</td>\n",
       "      <td>529</td>\n",
       "      <td>140</td>\n",
       "      <td>424</td>\n",
       "      <td>197</td>\n",
       "      <td>...</td>\n",
       "      <td>24</td>\n",
       "      <td>33</td>\n",
       "      <td>3</td>\n",
       "      <td>18</td>\n",
       "      <td>1947</td>\n",
       "      <td>486</td>\n",
       "      <td>6403</td>\n",
       "      <td>-555555555</td>\n",
       "      <td>6</td>\n",
       "      <td>9</td>\n",
       "    </tr>\n",
       "  </tbody>\n",
       "</table>\n",
       "<p>5 rows × 22 columns</p>\n",
       "</div>"
      ],
      "text/plain": [
       "                           NAME          GEO_ID    total  total_moe  nh_white  \\\n",
       "0    Alameda County, California  0500000US06001  1651949 -555555555    466445   \n",
       "1     Alpine County, California  0500000US06003     1695        234       993   \n",
       "2     Amador County, California  0500000US06005    41029 -555555555     30234   \n",
       "3      Butte County, California  0500000US06007   209470 -555555555    139527   \n",
       "4  Calaveras County, California  0500000US06009    45995 -555555555     35599   \n",
       "\n",
       "   nh_white_moe  nh_black  nh_black_moe  nh_native  nh_native_moe  ...  nh_pi  \\\n",
       "0          1170    159042          1736       4002            418  ...  11651   \n",
       "1           215         0            14        417             27  ...      0   \n",
       "2           341       781           143        398            112  ...     26   \n",
       "3           767      3550           393       1611            294  ...    554   \n",
       "4           318       529           140        424            197  ...     24   \n",
       "\n",
       "   nh_pi_moe  nh_1other  nh_1other_moe  nh_multi  nh_multi_moe  hispanic  \\\n",
       "0        588      10314           1134     86873          3145    385245   \n",
       "1         14          6             11        22            23       249   \n",
       "2         22        489            298      2153           315      6361   \n",
       "3        130       1072            543     11317           895     40829   \n",
       "4         33          3             18      1947           486      6403   \n",
       "\n",
       "   hispanic_moe  state  county  \n",
       "0    -555555555      6       1  \n",
       "1           115      6       3  \n",
       "2    -555555555      6       5  \n",
       "3    -555555555      6       7  \n",
       "4    -555555555      6       9  \n",
       "\n",
       "[5 rows x 22 columns]"
      ]
     },
     "execution_count": 6,
     "metadata": {},
     "output_type": "execute_result"
    }
   ],
   "source": [
    "# Take a sneak peek!\n",
    "df.head()"
   ]
  },
  {
   "cell_type": "code",
   "execution_count": null,
   "metadata": {},
   "outputs": [],
   "source": [
    "# Here is a list of all the columns in the data\n",
    "df.columns"
   ]
  },
  {
   "cell_type": "markdown",
   "metadata": {},
   "source": [
    "## 2.2 Working with a Dataframe\n",
    "Remember the list indexing we covered earlier? That same logic applies to how a pandas DataFrame is structured — we’re still accessing specific parts of a data structure using brackets.\n",
    "\n",
    "With a list, we were using the **positional index** to retrieve, say, the fourth element in a given list with **list[3]**. \n",
    "With our dataframes, we’re going to access elements by **series**, identified by their **column name**. \n",
    "\n",
    "So instead of `list[3]`, we’ll point to a column with **`dataframe[column_name]`**. These labels make it easier to identify what part of the data we’re calling. \n",
    "\n",
    "Note: Remember that that column name is a string, so it’ll have to be in quotation marks for the program to find it… "
   ]
  },
  {
   "cell_type": "code",
   "execution_count": null,
   "metadata": {},
   "outputs": [],
   "source": [
    "# EXERCISE: Try to access only the column that shows the total population for each county (i.e., each row)\n"
   ]
  },
  {
   "cell_type": "code",
   "execution_count": null,
   "metadata": {},
   "outputs": [],
   "source": [
    "# Using this technique, we can apply a function to a single column in the dataframe. For example: \n",
    "df['NAME'].unique()"
   ]
  },
  {
   "cell_type": "markdown",
   "metadata": {},
   "source": [
    "## 2.3 Doing Calculations Using Pandas\n",
    "\n",
    "If you’re coming from Excel, it’s natural to think in terms of rows: calculate something for the first row, then copy that logic down.\n",
    "\n",
    "pandas is built for **vectorized** operations, meaning that it handles entire columns of data at once, not row-by-row. \n",
    "\n",
    "So to get the sum of White and Asian respondents in this dataframe, for instance, we tell pandas to add those two columns together..."
   ]
  },
  {
   "cell_type": "code",
   "execution_count": null,
   "metadata": {},
   "outputs": [],
   "source": [
    "# Calculate the sum of White and Asian respondents for each California county\n",
    "df[\"nh_white\"] + df[\"nh_asian\"]"
   ]
  },
  {
   "cell_type": "markdown",
   "metadata": {},
   "source": [
    "Yay! That worked! But without creating a new column in our dataframe to store that data, we won't be able to use that sum later on...\n",
    "\n",
    "We can create a new column in pandas by using the same format as existing ones — just give it a new name in square brackets and assign it a value or expression.\n",
    "\n",
    "For example:\n",
    "\n",
    "* `df[\"new\"] = df[\"old1\"] * df[\"old2\"]` to create a new column by performing a calculation on existing column(s)\n",
    "* `df[\"new\"] = 5` to create a new column with a specified value aross every row."
   ]
  },
  {
   "cell_type": "code",
   "execution_count": null,
   "metadata": {},
   "outputs": [],
   "source": [
    "# EXERCISE: \n",
    "# 1. Create a new column that stores the sum of non-Hispanic Asian and White respondents\n",
    "# 2. Create a new column called \"year\" with the ACS year you're working with.\n"
   ]
  },
  {
   "cell_type": "markdown",
   "metadata": {},
   "source": [
    "Now let's figure out the percents!"
   ]
  },
  {
   "cell_type": "code",
   "execution_count": null,
   "metadata": {},
   "outputs": [],
   "source": [
    "# EXERCISE: Create a new column that stores the percent of respondents that are non-Hispanic White\n"
   ]
  },
  {
   "cell_type": "code",
   "execution_count": null,
   "metadata": {},
   "outputs": [],
   "source": [
    "# EXERCISE: Can you figure out how to sort the table?  And then write the code to do the same for the Hispanic population.\n",
    "# Hint: Check out the Pandas documentation or Google the solution!\n"
   ]
  },
  {
   "cell_type": "markdown",
   "metadata": {},
   "source": [
    "## 2.4 Bringing it all together!\n",
    "\n",
    "We've covered a lot of ground and we know the intial stages of learning Python can be overwhelming. But here's an example of what we're working towards. \n",
    "\n",
    "Let's create a bar chart that shows the percent of non-Hispanic White, non-Hispanic Black, and Hispanic residents in Alameda County. (We'll work on making our charts more effective later in the semester.)"
   ]
  },
  {
   "cell_type": "code",
   "execution_count": 28,
   "metadata": {},
   "outputs": [
    {
     "data": {
      "text/html": [
       "<div>\n",
       "<style scoped>\n",
       "    .dataframe tbody tr th:only-of-type {\n",
       "        vertical-align: middle;\n",
       "    }\n",
       "\n",
       "    .dataframe tbody tr th {\n",
       "        vertical-align: top;\n",
       "    }\n",
       "\n",
       "    .dataframe thead th {\n",
       "        text-align: right;\n",
       "    }\n",
       "</style>\n",
       "<table border=\"1\" class=\"dataframe\">\n",
       "  <thead>\n",
       "    <tr style=\"text-align: right;\">\n",
       "      <th></th>\n",
       "      <th>NAME</th>\n",
       "      <th>nh_white_pct</th>\n",
       "      <th>nh_black_pct</th>\n",
       "      <th>nh_native_pct</th>\n",
       "      <th>nh_asian_pct</th>\n",
       "      <th>nh_pi_pct</th>\n",
       "      <th>nh_1other_pct</th>\n",
       "      <th>nh_multi_pct</th>\n",
       "      <th>hispanic_pct</th>\n",
       "    </tr>\n",
       "  </thead>\n",
       "  <tbody>\n",
       "    <tr>\n",
       "      <th>0</th>\n",
       "      <td>Alameda County, California</td>\n",
       "      <td>28.24</td>\n",
       "      <td>9.63</td>\n",
       "      <td>0.24</td>\n",
       "      <td>31.99</td>\n",
       "      <td>0.71</td>\n",
       "      <td>0.62</td>\n",
       "      <td>5.26</td>\n",
       "      <td>23.32</td>\n",
       "    </tr>\n",
       "    <tr>\n",
       "      <th>1</th>\n",
       "      <td>Alpine County, California</td>\n",
       "      <td>58.58</td>\n",
       "      <td>0.00</td>\n",
       "      <td>24.60</td>\n",
       "      <td>0.47</td>\n",
       "      <td>0.00</td>\n",
       "      <td>0.35</td>\n",
       "      <td>1.30</td>\n",
       "      <td>14.69</td>\n",
       "    </tr>\n",
       "    <tr>\n",
       "      <th>2</th>\n",
       "      <td>Amador County, California</td>\n",
       "      <td>73.69</td>\n",
       "      <td>1.90</td>\n",
       "      <td>0.97</td>\n",
       "      <td>1.43</td>\n",
       "      <td>0.06</td>\n",
       "      <td>1.19</td>\n",
       "      <td>5.25</td>\n",
       "      <td>15.50</td>\n",
       "    </tr>\n",
       "    <tr>\n",
       "      <th>3</th>\n",
       "      <td>Butte County, California</td>\n",
       "      <td>66.61</td>\n",
       "      <td>1.69</td>\n",
       "      <td>0.77</td>\n",
       "      <td>5.26</td>\n",
       "      <td>0.26</td>\n",
       "      <td>0.51</td>\n",
       "      <td>5.40</td>\n",
       "      <td>19.49</td>\n",
       "    </tr>\n",
       "    <tr>\n",
       "      <th>4</th>\n",
       "      <td>Calaveras County, California</td>\n",
       "      <td>77.40</td>\n",
       "      <td>1.15</td>\n",
       "      <td>0.92</td>\n",
       "      <td>2.32</td>\n",
       "      <td>0.05</td>\n",
       "      <td>0.01</td>\n",
       "      <td>4.23</td>\n",
       "      <td>13.92</td>\n",
       "    </tr>\n",
       "  </tbody>\n",
       "</table>\n",
       "</div>"
      ],
      "text/plain": [
       "                           NAME  nh_white_pct  nh_black_pct  nh_native_pct  \\\n",
       "0    Alameda County, California         28.24          9.63           0.24   \n",
       "1     Alpine County, California         58.58          0.00          24.60   \n",
       "2     Amador County, California         73.69          1.90           0.97   \n",
       "3      Butte County, California         66.61          1.69           0.77   \n",
       "4  Calaveras County, California         77.40          1.15           0.92   \n",
       "\n",
       "   nh_asian_pct  nh_pi_pct  nh_1other_pct  nh_multi_pct  hispanic_pct  \n",
       "0         31.99       0.71           0.62          5.26         23.32  \n",
       "1          0.47       0.00           0.35          1.30         14.69  \n",
       "2          1.43       0.06           1.19          5.25         15.50  \n",
       "3          5.26       0.26           0.51          5.40         19.49  \n",
       "4          2.32       0.05           0.01          4.23         13.92  "
      ]
     },
     "execution_count": 28,
     "metadata": {},
     "output_type": "execute_result"
    }
   ],
   "source": [
    "# Here, we use a \"for\" loop to apply the same percent calculation for each race/ethnicity variable, \n",
    "# and then automatically add _pct to the end of each created variable\n",
    "\n",
    "race_cols = [\"nh_white\", \"nh_black\", \"nh_native\", \"nh_asian\", # First, create a list of all race/ethnicity counts\n",
    "             \"nh_pi\", \"nh_1other\", \"nh_multi\", \"hispanic\"]\n",
    "\n",
    "for col in race_cols: # This is a for loop, it loops through items in a list to expedite our analysis\n",
    "    df[col + \"_pct\"] = df[col] / df[\"total\"] * 100 # Here is the actual calculation being applied to each item in the race_cols list\n",
    "\n",
    "df[[\"NAME\"] + [c+\"_pct\" for c in race_cols]].head() # Create and display a new column that contains the percent of each race/ethnicity (column) for each county (row)"
   ]
  },
  {
   "cell_type": "code",
   "execution_count": 15,
   "metadata": {},
   "outputs": [],
   "source": [
    "# Pick Alameda County\n",
    "alameda = df[df[\"NAME\"] == \"Alameda County, California\"] # Here we are selecting only the rows in the dataframe where \"NAME\" equals \"Alameda County, California\"\n",
    "\n",
    "# Collect the percent columns; how would you add more to the graph?\n",
    "alameda_percents = alameda[[\"nh_white_pct\",\"nh_black_pct\",\"hispanic_pct\"]]"
   ]
  },
  {
   "cell_type": "code",
   "execution_count": null,
   "metadata": {},
   "outputs": [],
   "source": [
    "import matplotlib.pyplot as plt # This is a special package for plotting\n",
    "\n",
    "alameda_percents.plot(kind=\"bar\", figsize=(8,5)) # Generate the plot and specify the figure size\n",
    "plt.ylabel(\"Percent of Population\") # Add a y-axis label\n",
    "plt.title(\"Race/Ethnicity Distribution in Alameda County, CA\") # Add a x-axis label\n",
    "plt.show() # Tell Python to show us the plot"
   ]
  },
  {
   "cell_type": "markdown",
   "metadata": {},
   "source": [
    "# 3. [Optional] Additional Resources for Practicing\n",
    "\n",
    "### Are you confused? Want to review the Python basics we just covered?\n",
    "First of all, do not fret! Learning Python is like learning a new language. It will take time (and lots of practice) to absorb everything you just learned.\n",
    "\n",
    "Here are some resources to help you practice and clarify confusing concepts: \n",
    "* Practice Platforms\n",
    "    * [HackerRank](https://www.hackerrank.com/) (Beginner to Intermediate)\n",
    "    * [Codewars](https://www.codewars.com/) (Beginner to Advanced)\n",
    "* Online Courses\n",
    "    * [Programming for Everbody (UMich)](https://www.coursera.org/learn/python) on Coursera (Beginner)\n",
    "    * [CS50's Introduction to Programming with Python (Harvard)](https://cs50.harvard.edu/python/) (Beginner)\n",
    "    * [Data8: Foundations of Data Science (UCB)](https://www.data8.org/sp25/) (Beginner)\n",
    "    * [How to Think Like a Computer Scientist](https://runestone.academy/ns/books/published/thinkcspy/index.html) (Beginner)\n",
    "* Videos\n",
    "    * [Tech with Tim](https://www.youtube.com/@TechWithTim) (Beginner to Imtermediate)\n",
    " \n",
    "\n",
    "Finally, please remember to make use of GSI office hours! You can drop-in to review Python concepts and skills regardless of whether your questions are related to a class assignment or not. \n",
    "\n",
    "### Too easy? Here are some more advanced Python resources you can review. \n",
    "\n",
    "Here are some resources to help you advance your skills:\n",
    "* Practice Platforms\n",
    "    * [LeetCode](https://leetcode.com/) (Intermediate to Advanced)\n",
    "    * [Kaggle](https://www.kaggle.com/) (Intermediate)\n",
    "* Python Documentation\n",
    "    * Dig around on the [official Python documentation](https://docs.python.org/3/)!\n",
    "* Videos\n",
    "    * [Corey Schafer's Python Tutorials](https://www.youtube.com/user/schafer5) (Intermediate)\n",
    "    * [ArjanCode](https://www.youtube.com/@ArjanCodes) (Advanced)\n",
    "  \n",
    "\n",
    "\n",
    "Source: https://ucb-urban-informatics.github.io/cp255_web/docs/tutorials/python_reference.html"
   ]
  },
  {
   "cell_type": "code",
   "execution_count": null,
   "metadata": {},
   "outputs": [],
   "source": []
  }
 ],
 "metadata": {
  "kernelspec": {
   "display_name": "Python (geo_env)",
   "language": "python",
   "name": "geo_env"
  },
  "language_info": {
   "codemirror_mode": {
    "name": "ipython",
    "version": 3
   },
   "file_extension": ".py",
   "mimetype": "text/x-python",
   "name": "python",
   "nbconvert_exporter": "python",
   "pygments_lexer": "ipython3",
   "version": "3.13.2"
  }
 },
 "nbformat": 4,
 "nbformat_minor": 4
}
