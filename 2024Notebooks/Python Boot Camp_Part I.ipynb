{
 "cells": [
  {
   "cell_type": "markdown",
   "metadata": {},
   "source": [
    "# First things first\n",
    "\n",
    "Jupyter notebooks consist of a mix of *code cells* and *markdown cells*. Markdown cells (like this one) help document/explain the purpose and contents of the notebook. Code cells (like the cell below this one) let you write and run Python code. To run a code cell, activate the cell (by clicking in or next to it). You will see a thick bar to the left of the active cell. Then click the \"play\" button in the toolbar above, or press Shift-Enter (or Ctrl-Enter if you don't want to auto-advance to the next cell). Lots more helpful info about Jupyter notebooks [here](https://jupyter-notebook.readthedocs.io/en/stable/examples/Notebook/examples_index.html).\n",
    "\n",
    "It is programming tradition to start with a [\"Hello world!\" program](https://en.wikipedia.org/wiki/%22Hello,_World!%22_program). Activate the code cell below and run it!"
   ]
  },
  {
   "cell_type": "code",
   "execution_count": null,
   "metadata": {
    "collapsed": false,
    "jupyter": {
     "outputs_hidden": false
    }
   },
   "outputs": [],
   "source": [
    "print('Hello world!')"
   ]
  },
  {
   "cell_type": "markdown",
   "metadata": {},
   "source": [
    "Congratulations, you've written your first program. \n",
    "\n",
    "This program consists of a single **command**, `print('Hello world!')`. A command tells the computer what to do. The `print` command causes Python to display something "
   ]
  },
  {
   "cell_type": "code",
   "execution_count": null,
   "metadata": {},
   "outputs": [],
   "source": [
    "# These lines are comments. The Python interpreter ignores everything in a line after the # character.\n",
    "# Comments are just notes for humans to read to help understand the code.\n",
    "# Best practice: add a comment for every couple lines of code to explain what's going on and why.\n",
    "# You'd be amazed at how quickly you forget your code's logic"
   ]
  },
  {
   "cell_type": "markdown",
   "metadata": {},
   "source": [
    "### Learning the Python Language\n",
    "\n",
    "Python is a language, and like natural human languages, it takes time to learn.  There is vocabulary, or \"syntax,\" as well as rules for how that syntax is presented.  Both of these just take practice, practice, practice.  We will teach you the rules, but you need to practice on your own. \n",
    "\n",
    "However, programming languages differ from natural language in one important way:\n",
    "\n",
    "> The rules are rigid. If you're proficient in a natural language, you can understand a non-proficient speaker, glossing over small mistakes. A computer running Python code is not smart enough to do that.\n",
    "\n",
    "Whenever you write code, you'll make mistakes. Errors are okay; even experienced programmers make many errors. When you make an error, you just have to find the source of the problem, fix it, and move on. Fixing it can take a long time.  A long long time."
   ]
  },
  {
   "cell_type": "code",
   "execution_count": null,
   "metadata": {},
   "outputs": [],
   "source": [
    "print(\"This line is missing something.\""
   ]
  },
  {
   "cell_type": "markdown",
   "metadata": {},
   "source": [
    "The last line of the error output attempts to tell you what went wrong.  The *syntax* of a language is its structure, and this `SyntaxError` tells you that you have created an illegal structure.  \"`EOF`\" means \"end of file,\" so the message is saying Python expected you to write something more (in this case, a right parenthesis) before finishing the cell.\n",
    "\n",
    "There's a lot of terminology in programming languages, but you don't need to know it all in order to program effectively. If you can't figure it out intuitively, Google is your best friend!\n",
    "\n",
    "Try to fix the code above so that you can run the cell and see the intended message instead of an error."
   ]
  },
  {
   "cell_type": "markdown",
   "metadata": {
    "jp-MarkdownHeadingCollapsed": true
   },
   "source": [
    "### Markdown Cells\n",
    "\n",
    "Some cells are known as ***markdown cells***, which contain html text that you can use to share your analysis with others, as well as keep notes on what the different lines of code do. (Like this cell!) You can edit the contents of a cell by double-clicking on it.\n",
    "\n",
    "Try it on this cell. When you are ready to save a markdown cell, just use Shift-Enter.\n",
    "\n",
    "You can use Markdown syntax to format your text. Documentation on the markdown syntax is available here: https://www.markdownguide.org/basic-syntax/ \n",
    "\n",
    "### Hashtags  are for headings\n",
    "**Two stars** makes text bold and ***three stars*** make the text bold and italic.  Take a minute and create a new markdown cell with some formatted text.  Write yourself an affirming note that you can do this!"
   ]
  },
  {
   "cell_type": "markdown",
   "metadata": {},
   "source": [
    "# Basic math"
   ]
  },
  {
   "cell_type": "code",
   "execution_count": null,
   "metadata": {
    "collapsed": false,
    "jupyter": {
     "outputs_hidden": false
    }
   },
   "outputs": [],
   "source": [
    "# addition\n",
    "5 + 2"
   ]
  },
  {
   "cell_type": "code",
   "execution_count": null,
   "metadata": {
    "collapsed": false,
    "jupyter": {
     "outputs_hidden": false
    }
   },
   "outputs": [],
   "source": [
    "# subtraction\n",
    "5 - 2"
   ]
  },
  {
   "cell_type": "code",
   "execution_count": null,
   "metadata": {
    "collapsed": false,
    "jupyter": {
     "outputs_hidden": false
    }
   },
   "outputs": [],
   "source": [
    "# multiplication\n",
    "5 * 2"
   ]
  },
  {
   "cell_type": "code",
   "execution_count": null,
   "metadata": {
    "collapsed": false,
    "jupyter": {
     "outputs_hidden": false
    }
   },
   "outputs": [],
   "source": [
    "# division\n",
    "5 / 2\n",
    "\n",
    "# Integer division is also available, using the // operator:\n",
    "# this returns the whole number portion of the result, so 5 // 2 = 2"
   ]
  },
  {
   "cell_type": "code",
   "execution_count": null,
   "metadata": {
    "collapsed": false,
    "jupyter": {
     "outputs_hidden": false
    }
   },
   "outputs": [],
   "source": [
    "# exponentiation: raising 5 to the 2nd power\n",
    "5 ** 2"
   ]
  },
  {
   "cell_type": "code",
   "execution_count": null,
   "metadata": {
    "collapsed": false,
    "jupyter": {
     "outputs_hidden": false
    }
   },
   "outputs": [],
   "source": [
    "# exponentiation part 2: the square root of 5 (5 to the 0.5th power)\n",
    "5 ** 0.5\n",
    "\n",
    "# Note that spaces don't matter here: 5**0.5 == 5 ** 0.5"
   ]
  },
  {
   "cell_type": "code",
   "execution_count": null,
   "metadata": {
    "collapsed": false,
    "jupyter": {
     "outputs_hidden": false
    }
   },
   "outputs": [],
   "source": [
    "# the modulus operator: what is the remainder when you divide 5 by 2?\n",
    "5 % 2 "
   ]
  },
  {
   "cell_type": "code",
   "execution_count": null,
   "metadata": {
    "collapsed": false,
    "jupyter": {
     "outputs_hidden": false
    }
   },
   "outputs": [],
   "source": [
    "# test for equality\n",
    "5 == 2"
   ]
  },
  {
   "cell_type": "markdown",
   "metadata": {},
   "source": [
    "# Variables and print commands"
   ]
  },
  {
   "cell_type": "code",
   "execution_count": null,
   "metadata": {},
   "outputs": [],
   "source": [
    "# variables, such as x here, contain values and their values can vary\n",
    "x = 5"
   ]
  },
  {
   "cell_type": "code",
   "execution_count": null,
   "metadata": {
    "collapsed": false,
    "jupyter": {
     "outputs_hidden": false
    }
   },
   "outputs": [],
   "source": [
    "# what is the value of x?\n",
    "x"
   ]
  },
  {
   "cell_type": "code",
   "execution_count": null,
   "metadata": {
    "collapsed": false,
    "jupyter": {
     "outputs_hidden": false
    }
   },
   "outputs": [],
   "source": [
    "# you can perform operations on variables, just like you can on two numbers\n",
    "x + 3"
   ]
  },
  {
   "cell_type": "code",
   "execution_count": null,
   "metadata": {
    "collapsed": false,
    "jupyter": {
     "outputs_hidden": false
    }
   },
   "outputs": [],
   "source": [
    "# what is the value of x now?\n",
    "x"
   ]
  },
  {
   "cell_type": "code",
   "execution_count": null,
   "metadata": {},
   "outputs": [],
   "source": [
    "# to update the value of a variable, you need to do an assignment again\n",
    "x = x + 3"
   ]
  },
  {
   "cell_type": "code",
   "execution_count": null,
   "metadata": {
    "collapsed": false,
    "jupyter": {
     "outputs_hidden": false
    }
   },
   "outputs": [],
   "source": [
    "# and now what is the value of x?\n",
    "x"
   ]
  },
  {
   "cell_type": "code",
   "execution_count": null,
   "metadata": {
    "collapsed": false,
    "jupyter": {
     "outputs_hidden": false
    }
   },
   "outputs": [],
   "source": [
    "# create a new variable y from an operation on x\n",
    "x = 5\n",
    "y = x * 2\n",
    "y"
   ]
  },
  {
   "cell_type": "code",
   "execution_count": null,
   "metadata": {
    "collapsed": false,
    "jupyter": {
     "outputs_hidden": false
    }
   },
   "outputs": [],
   "source": [
    "# outputting values only displays the last thing output\n",
    "x\n",
    "y"
   ]
  },
  {
   "cell_type": "code",
   "execution_count": null,
   "metadata": {
    "collapsed": false,
    "jupyter": {
     "outputs_hidden": false
    }
   },
   "outputs": [],
   "source": [
    "# use print() to write some value to the console\n",
    "print(x)\n",
    "print(y)"
   ]
  },
  {
   "cell_type": "code",
   "execution_count": null,
   "metadata": {
    "collapsed": false,
    "jupyter": {
     "outputs_hidden": false
    }
   },
   "outputs": [],
   "source": [
    "# you can comma-separate values to print multiple to the console on one line\n",
    "print(x, y)"
   ]
  },
  {
   "cell_type": "code",
   "execution_count": null,
   "metadata": {
    "collapsed": false,
    "jupyter": {
     "outputs_hidden": false
    }
   },
   "outputs": [],
   "source": [
    "# you can also print the result of an expression\n",
    "print (x * y)"
   ]
  },
  {
   "cell_type": "code",
   "execution_count": null,
   "metadata": {
    "collapsed": false,
    "jupyter": {
     "outputs_hidden": false
    }
   },
   "outputs": [],
   "source": [
    "# Naming conventions: you can't have spaces or dashes in variable names\n",
    "# Also, variable names must begin with a letter (but after that, numbers are fine)\n",
    "# Underscores _ and Mixed Case is fine\n",
    "# Variable names (like the rest of Python) are case sensitive\n",
    "# Stylistically, variable names should begin with a lowercase letter\n",
    "# names_with_underscores are one good approach\n",
    "# namesWithCapitals are another\n",
    "\n",
    "my_var = 1\n",
    "my_var2 = 2\n",
    "anotherVar = 3\n",
    "this-aint-a-var = 4"
   ]
  },
  {
   "cell_type": "markdown",
   "metadata": {},
   "source": [
    "# Data types"
   ]
  },
  {
   "cell_type": "code",
   "execution_count": null,
   "metadata": {
    "collapsed": false,
    "jupyter": {
     "outputs_hidden": false
    }
   },
   "outputs": [],
   "source": [
    "# integers are whole numbers\n",
    "type(125)"
   ]
  },
  {
   "cell_type": "code",
   "execution_count": null,
   "metadata": {
    "collapsed": false,
    "jupyter": {
     "outputs_hidden": false
    }
   },
   "outputs": [],
   "source": [
    "# every variable has a data type, and they can be of any type\n",
    "x = 125\n",
    "type(x)"
   ]
  },
  {
   "cell_type": "code",
   "execution_count": null,
   "metadata": {
    "collapsed": false,
    "jupyter": {
     "outputs_hidden": false
    }
   },
   "outputs": [],
   "source": [
    "# float is a floating point (aka decimal) number\n",
    "some_rate = 4.3\n",
    "type(some_rate)"
   ]
  },
  {
   "cell_type": "code",
   "execution_count": null,
   "metadata": {
    "collapsed": false,
    "jupyter": {
     "outputs_hidden": false
    }
   },
   "outputs": [],
   "source": [
    "# strings are strings of characters\n",
    "my_string = 'abc'\n",
    "type(my_string)"
   ]
  },
  {
   "cell_type": "code",
   "execution_count": null,
   "metadata": {
    "collapsed": false,
    "jupyter": {
     "outputs_hidden": false
    }
   },
   "outputs": [],
   "source": [
    "# a list is a collection of elements denoted by square brackets\n",
    "my_list = [1, 2, 3, 4]\n",
    "print(my_list)\n",
    "type(my_list)"
   ]
  },
  {
   "cell_type": "code",
   "execution_count": null,
   "metadata": {
    "collapsed": false,
    "jupyter": {
     "outputs_hidden": false
    }
   },
   "outputs": [],
   "source": [
    "# the elements of a list can be of different types\n",
    "new_list = [1, 'Q', 8, 'four']\n",
    "type(new_list)"
   ]
  },
  {
   "cell_type": "code",
   "execution_count": null,
   "metadata": {
    "collapsed": false,
    "jupyter": {
     "outputs_hidden": false
    }
   },
   "outputs": [],
   "source": [
    "# Some data types support iteration and indexing: \n",
    "# you can get the nth element from an iterable object (like a string) with [n] indexing notation\n",
    "# In Python, the index starts with zero, not one\n",
    "print(my_string[0])\n",
    "print(my_list[1])"
   ]
  },
  {
   "cell_type": "code",
   "execution_count": null,
   "metadata": {
    "collapsed": false,
    "jupyter": {
     "outputs_hidden": false
    }
   },
   "outputs": [],
   "source": [
    "# a dictionary is a collection of key:value pairs, denoted by curly braces\n",
    "person = {'first_name': 'Geoff', 'last_name': 'Boeing'}\n",
    "print(person)\n",
    "type(person)"
   ]
  },
  {
   "cell_type": "code",
   "execution_count": null,
   "metadata": {
    "collapsed": false,
    "jupyter": {
     "outputs_hidden": false
    }
   },
   "outputs": [],
   "source": [
    "# A tuple is also a collection of elements, but you can't change individual elements after creation\n",
    "# You will generally want to use lists instead of tuples. I mention them here only because they\n",
    "# come up later when we build our geocoding script.\n",
    "my_list = [1, 2, 3]\n",
    "my_tuple = (1, 2, 3)\n",
    "\n",
    "my_list[1] = 6\n",
    "print(my_list)\n",
    "my_tuple[1] = 4 # throws an error"
   ]
  },
  {
   "cell_type": "markdown",
   "metadata": {
    "collapsed": true,
    "jupyter": {
     "outputs_hidden": true
    }
   },
   "source": [
    "# String processing"
   ]
  },
  {
   "cell_type": "code",
   "execution_count": null,
   "metadata": {
    "collapsed": false,
    "jupyter": {
     "outputs_hidden": false
    }
   },
   "outputs": [],
   "source": [
    "# some of the operators we saw earlier work on strings\n",
    "city = 'Berkeley'\n",
    "sep = ', '\n",
    "state = 'California'\n",
    "zip_code = '94703'\n",
    "\n",
    "location = city + sep + state + ' ' + zip_code\n",
    "print(location)"
   ]
  },
  {
   "cell_type": "code",
   "execution_count": null,
   "metadata": {
    "collapsed": false,
    "jupyter": {
     "outputs_hidden": false
    }
   },
   "outputs": [],
   "source": [
    "# multiplying a string just duplicates it\n",
    "zip_code * 3\n",
    "\n",
    "# division, exponentiation, and modulus don't work with strings."
   ]
  },
  {
   "cell_type": "code",
   "execution_count": null,
   "metadata": {
    "collapsed": false,
    "jupyter": {
     "outputs_hidden": false
    }
   },
   "outputs": [],
   "source": [
    "# how many characters are in this string?\n",
    "len(location)"
   ]
  },
  {
   "cell_type": "code",
   "execution_count": null,
   "metadata": {
    "collapsed": false,
    "jupyter": {
     "outputs_hidden": false
    }
   },
   "outputs": [],
   "source": [
    "# get a substring from some position up to but not including a second position\n",
    "location[2:5]"
   ]
  },
  {
   "cell_type": "code",
   "execution_count": null,
   "metadata": {
    "collapsed": false,
    "jupyter": {
     "outputs_hidden": false
    }
   },
   "outputs": [],
   "source": [
    "# get the first n characters from the string\n",
    "location[:5]"
   ]
  },
  {
   "cell_type": "code",
   "execution_count": null,
   "metadata": {
    "collapsed": false,
    "jupyter": {
     "outputs_hidden": false
    }
   },
   "outputs": [],
   "source": [
    "# get the characters from the string after the nth position\n",
    "location[5:]"
   ]
  },
  {
   "cell_type": "code",
   "execution_count": null,
   "metadata": {
    "collapsed": false,
    "jupyter": {
     "outputs_hidden": false
    }
   },
   "outputs": [],
   "source": [
    "# you can replace characters in a string with the replace() method\n",
    "location.replace('e', 'E')\n",
    "\n",
    "# We'll look at methods a lot more later on.\n",
    "# We don't have enough time to really get into it, but Python string formatting\n",
    "# is incredibly flexible and powerful and merits further investigation."
   ]
  },
  {
   "cell_type": "code",
   "execution_count": null,
   "metadata": {},
   "outputs": [],
   "source": [
    "# note that the replace() method does not mutate location itself!\n",
    "# as before, if we wanted to store the modified string, we'd need to assign the result\n",
    "# of location.replace() to location itself.\n",
    "location = location.replace('e', 'E')\n",
    "location"
   ]
  },
  {
   "cell_type": "markdown",
   "metadata": {},
   "source": [
    "### If statements\n",
    "\n",
    "You can also have Python run commands based on conditions: do x if y. "
   ]
  },
  {
   "cell_type": "code",
   "execution_count": null,
   "metadata": {
    "collapsed": false,
    "jupyter": {
     "outputs_hidden": false
    }
   },
   "outputs": [],
   "source": [
    "# Simple structure:\n",
    "\n",
    "warriors_wins = 70\n",
    "bulls_record = 72\n",
    "\n",
    "if warriors_wins < bulls_record:\n",
    "    print(\"Warriors did not break the record :(\")"
   ]
  },
  {
   "cell_type": "code",
   "execution_count": null,
   "metadata": {
    "collapsed": false,
    "jupyter": {
     "outputs_hidden": false
    }
   },
   "outputs": [],
   "source": [
    "# What happens if the condition is not met here?\n",
    "\n",
    "warriors_wins = 73\n",
    "\n",
    "if warriors_wins < bulls_record:\n",
    "    print(\"Warriors did not break the record :(\")"
   ]
  },
  {
   "cell_type": "code",
   "execution_count": null,
   "metadata": {
    "collapsed": false,
    "jupyter": {
     "outputs_hidden": false
    }
   },
   "outputs": [],
   "source": [
    "# if can set \"else\" statements for when the condition is not met\n",
    "\n",
    "if warriors_wins < bulls_record:\n",
    "    print(\"Warriors did not break the record :(\")\n",
    "else:\n",
    "    print(\"Warriors tied or broke the record!\")"
   ]
  },
  {
   "cell_type": "code",
   "execution_count": null,
   "metadata": {
    "collapsed": false,
    "jupyter": {
     "outputs_hidden": false
    }
   },
   "outputs": [],
   "source": [
    "# you can set more than 2 conditions using \"elif\" which is short for \"else if\"\n",
    "\n",
    "warriors_wins = 73\n",
    "\n",
    "if warriors_wins < bulls_record:\n",
    "    print(\"Warriors did not break the record :(\")\n",
    "elif warriors_wins == bulls_record:\n",
    "    print(\"Warriors tied the record.\")\n",
    "else:\n",
    "    print(\"Warriors broke the record!\")"
   ]
  }
 ],
 "metadata": {
  "kernelspec": {
   "display_name": "Python 3 (ipykernel)",
   "language": "python",
   "name": "python3"
  },
  "language_info": {
   "codemirror_mode": {
    "name": "ipython",
    "version": 3
   },
   "file_extension": ".py",
   "mimetype": "text/x-python",
   "name": "python",
   "nbconvert_exporter": "python",
   "pygments_lexer": "ipython3",
   "version": "3.12.4"
  }
 },
 "nbformat": 4,
 "nbformat_minor": 4
}
