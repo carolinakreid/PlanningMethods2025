{
 "cells": [
  {
   "cell_type": "markdown",
   "id": "5745021e-abd6-44eb-b709-14a70f6c21d0",
   "metadata": {},
   "source": [
    "# CP201A Lecture: Testing for Statistical Significance\n",
    "Fall 2025\n",
    "\n",
    "Today, we're going to answer the question:  Which county saw the greatest increases in median rents between 2019 and 2023?"
   ]
  },
  {
   "cell_type": "code",
   "execution_count": null,
   "id": "7485b84b-3ce1-40a3-8028-9dc36df9757b",
   "metadata": {},
   "outputs": [],
   "source": [
    "# Import the libraries and modules we need\n",
    "import pandas as pd\n",
    "from census import Census\n",
    "import numpy as np"
   ]
  },
  {
   "cell_type": "code",
   "execution_count": null,
   "id": "37b32591-0f8d-4170-be00-d01f6ab80daa",
   "metadata": {},
   "outputs": [],
   "source": [
    "# Initialize the Census Data API connection with your API key\n",
    "# This should look familiar by now, but talk through each step of the code with your team so you can explain what is happening\n",
    "api_key = ''\n",
    "c = Census(key=api_key)\n",
    "\n",
    "# Define the dict of variables to pull and rename\n",
    "variables_of_interest = {\n",
    "    'NAME': 'NAME',\n",
    "    'GEO_ID': 'GEO_ID',\n",
    "    'B25064_001E': 'med_rent',\n",
    "    'B25064_001M': 'med_rent_moe',\n",
    "}\n",
    "\n",
    "# Pull 2019\n",
    "df_2019 = pd.DataFrame(\n",
    "    c.acs1.get(\n",
    "        list(variables_of_interest.keys()),\n",
    "        {'for': 'county:*', 'in':'state:06'},\n",
    "        year=2019\n",
    "    )\n",
    ").rename(columns=variables_of_interest)\n",
    "\n",
    "# Pull 2023\n",
    "df_2023 = pd.DataFrame(\n",
    "    c.acs1.get(\n",
    "        list(variables_of_interest.keys()),\n",
    "        {'for': 'county:*', 'in':'state:06'},\n",
    "        year=2023\n",
    "    )\n",
    ").rename(columns=variables_of_interest)"
   ]
  },
  {
   "cell_type": "code",
   "execution_count": null,
   "id": "997cf957-c3df-4fae-bbe0-b17efb6141a0",
   "metadata": {},
   "outputs": [],
   "source": [
    "#we're going to do some cleaning - talk through with your team what is happening in each step of this code\n",
    "df_2019 = df_2019.rename(\n",
    "    columns={\n",
    "        \"med_rent\": \"med_rent_2019\",\n",
    "        \"med_rent_moe\": \"med_rent_2019_moe\"\n",
    "    }\n",
    ")\n",
    "\n",
    "df_2023 = df_2023.rename(\n",
    "    columns={\n",
    "        \"med_rent\": \"med_rent_2023\",\n",
    "        \"med_rent_moe\": \"med_rent_2023_moe\"\n",
    "    }\n",
    ")\n",
    "\n",
    "# Merge and keep NAME from 2023\n",
    "df_merged = pd.merge(\n",
    "    df_2019[[\"state\", \"county\", \"med_rent_2019\", \"med_rent_2019_moe\"]],\n",
    "    df_2023[[\"state\", \"county\", \"NAME\", \"med_rent_2023\", \"med_rent_2023_moe\"]],\n",
    "    on=[\"state\", \"county\"],\n",
    "    how=\"inner\"\n",
    ")\n",
    "\n",
    "df = df_merged[[\n",
    "    \"NAME\", \n",
    "    \"med_rent_2019\", \n",
    "    \"med_rent_2019_moe\", \n",
    "    \"med_rent_2023\", \n",
    "    \"med_rent_2023_moe\"\n",
    "]].copy()\n",
    "df"
   ]
  },
  {
   "cell_type": "code",
   "execution_count": null,
   "id": "8046d2e1-5ca3-4b53-959d-f1c9c15e6adf",
   "metadata": {},
   "outputs": [],
   "source": [
    "#calculate the percent increase in median rents\n",
    "#which counties have the greatest increase?"
   ]
  },
  {
   "cell_type": "code",
   "execution_count": null,
   "id": "e6625925-7c42-4dc9-b27b-e046351c3ea8",
   "metadata": {},
   "outputs": [],
   "source": [
    "#adjust the 2019 values for inflation and the percent increase in median rents - what changed?\n",
    "# I've provided the inflation factor for you (2019 -> 2023 dollars)\n",
    "inflation_factor = 305.109 / 255.657  # ≈ 1.193\n",
    "\n",
    "#you'll use that inflation factor to adjust 2019 estimates and MOEs to 2023 dollars"
   ]
  },
  {
   "cell_type": "markdown",
   "id": "3d111c7d-b37f-496a-93a6-a912d738ca08",
   "metadata": {},
   "source": [
    "------------------------\n",
    "# 2. Testing for statistically significant differences\n",
    "\n",
    "## 2.1 Calculating standard errors\n",
    "\n",
    "First we need to convert the 90% confidence level margins of error that come with the ACS data into standard errors. The formula to do so is $SE = \\frac{MOE_{ACS}}{1.645},$ where $MOE_{ACS}$ is the 90% margin of error provided for the ACS estimate.\n"
   ]
  },
  {
   "cell_type": "code",
   "execution_count": null,
   "id": "662170c7-12bd-4ecc-b676-adcbd7602d14",
   "metadata": {},
   "outputs": [],
   "source": [
    "# Create new variables for the standard errors"
   ]
  },
  {
   "cell_type": "markdown",
   "id": "34db31c8-49ab-4998-aa76-3f226f96654f",
   "metadata": {},
   "source": [
    "## 2.2 Implementing the two-sample t-test of means\n",
    "\n",
    "Let's review the formula for testing whether two sample estimates are statistically significantly different from each other:\n",
    "\n",
    "$$\\left|\\frac{\\hat{X}_1 - \\hat{X}_2}{\\sqrt{SE_1^2 + SE_2^2}}\\right| > Z_{CL},$$\n",
    "where:\n",
    "* $\\hat{X}_1$ and $\\hat{X}_2$ are the estimates we're comparing (the hat over the $X$ just means that the value is an estimate)\n",
    "* $SE_1$ and $SE_2$ are the corresponding *standard error* values, and\n",
    "* $Z_{CL}$ is the z-score associated with a given *confidence level* (1.645 for 90%, 1.96 for 95%, 2.576 for 99%).\n",
    "\n",
    "We have all our “ingredients” – we have the percent of renters who are cost burdened for each geography, as well as the associated standard error. Now we just need to implement this formula. It looks complicated, but we already know addition `+`, subtraction `-`, division `-`, and exponentiation `**` in Python. All we really need to complete the picture is how to take the *absolute value* of a number.\n",
    "\n",
    "The absolute value of a real number $x$ is the non-negative value of $x$, without regard to its sign. In math formulas, $|x|$ denotes an absolute value. In Python, the function `abs(x)` returns the value of `x` if `x` is non-negative, or `-x` if `x` is negative. So `abs(4)` is 4, and `abs(-10)` is 10.\n"
   ]
  },
  {
   "cell_type": "code",
   "execution_count": null,
   "id": "3a4fee32-047e-491e-9b9b-74ae2573513a",
   "metadata": {},
   "outputs": [],
   "source": [
    "# Write code to calculate the Z test statistic for the change in median rent (dollar change adjusted for inflation)"
   ]
  },
  {
   "cell_type": "code",
   "execution_count": null,
   "id": "52c427cb-7520-46f5-bd35-c2fd4a988432",
   "metadata": {},
   "outputs": [],
   "source": [
    "#sort your data by the percent increase in median rents and look at the output of the dataframe"
   ]
  },
  {
   "cell_type": "markdown",
   "id": "035fb445-7554-4df3-aa51-aa35ac55bfb6",
   "metadata": {},
   "source": [
    "**What county saw the greatest increase in rents?**\n",
    "\n",
    "**Which saw the smallest?**\n",
    "\n",
    "**Are the values statistically significant?**\n",
    "If so, at what confidence level?\n"
   ]
  },
  {
   "cell_type": "code",
   "execution_count": null,
   "id": "7e006a74-019c-4e0a-a3c5-e98cc5d00e3a",
   "metadata": {},
   "outputs": [],
   "source": [
    "#If you have time, can you do the same analysis for another state? "
   ]
  }
 ],
 "metadata": {
  "kernelspec": {
   "display_name": "Python (geo_env)",
   "language": "python",
   "name": "geo_env"
  },
  "language_info": {
   "codemirror_mode": {
    "name": "ipython",
    "version": 3
   },
   "file_extension": ".py",
   "mimetype": "text/x-python",
   "name": "python",
   "nbconvert_exporter": "python",
   "pygments_lexer": "ipython3",
   "version": "3.13.2"
  }
 },
 "nbformat": 4,
 "nbformat_minor": 5
}
